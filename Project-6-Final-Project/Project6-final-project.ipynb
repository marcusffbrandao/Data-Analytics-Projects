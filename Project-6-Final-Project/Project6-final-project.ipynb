{
 "cells": [
  {
   "cell_type": "markdown",
   "metadata": {},
   "source": [
    "# Ironhack - Data Analytics Bootcamp"
   ]
  },
  {
   "cell_type": "markdown",
   "metadata": {},
   "source": [
    "## Project 6 - Final Project\n",
    "\n",
    "Free choice.\n",
    "\n",
    "### Main Objective\n",
    "\n",
    "The objective of this project is the application of one or more methodologies and tools learned during the course.\n",
    "\n",
    "### Deliverables\n",
    "\n",
    "- Presentation of your project - 7 minutes;\n",
    "- Link to github and/or tableau project;\n",
    "- Summary of your main insights."
   ]
  },
  {
   "cell_type": "markdown",
   "metadata": {},
   "source": [
    "## The Project:\n",
    "\n",
    "###  ROAD TRAFFIC DEATHS IN THE WORLD IN 2016\n",
    "\n",
    "In this project I chose to analyze some serious problem present in most countries in the world. Therefore, I took a look at the [Global Health Observatory](https://apps.who.int/gho/data/node.main) data repository, available on the World Health Organization website, and chose to analyze the road traffic deaths in the world in 2016, the most recent date available. For that, I downloaded the following dataframes:\n",
    "\n",
    "[Road traffic deaths (Data by country)](https://apps.who.int/gho/data/node.main.A997?lang=en);\n",
    "\n",
    "[Reported distribution of road traffic deaths by type of road user (Data by country)](https://apps.who.int/gho/data/node.main.A998?lang=en);\n",
    "\n",
    "[Registered vehicles (Data by country)](https://apps.who.int/gho/data/node.main.A995?lang=en);\n",
    "\n",
    "I also found it necessary to obtain some information on the socio-economic level of each country analyzed. For this, I chose the [Gross Domestic Product per Capita - GDP (nominal)](https://en.wikipedia.org/wiki/List_of_countries_by_GDP_(nominal)_per_capita), which is a good measure to analize a country's wealth and social development.\n",
    "\n",
    "I chose to get the United Nations rank, through web scraping from the [Wikipedia](https://en.wikipedia.org/wiki/List_of_countries_by_GDP_(nominal)_per_capita) website, among the three dataframes available there, because its data is from 2017, the closest date to 2016, that is the date of the other dataframes used in this work.\n",
    "\n",
    "Then, after cleaning and merging the four dataframes, the analysis was made through Tableau Software.\n",
    "\n",
    "\n",
    "#### Methodology:\n",
    "\n",
    "1. Downloading the three dataframes from the World Health Organization website;\n",
    "2. Importing Pandas libray and Regex;\n",
    "3. Importing the first dataframe containing the \"road traffic deaths by country\";\n",
    "4. Cleaning it, dropping useless data, reorganizing and renamimng some columns;\n",
    "5. Importing the second dataframe containing the \"registered vehicles by country\";\n",
    "6. Eliminating the spaces in the column \"Number of registered vehicles\" and change its type to float;\n",
    "7. Importing the third dataframe containing the \"reported distribution of road traffic deaths by type of road user by country\";\n",
    "8. Eliminating the non-numeric characters from the items in the column ' Drivers/passengers of 4-wheeled vehicles':\n",
    "9. Dropping the duplicate row for the country 'Eswatini'\n",
    "10. Web scraping the United Nations table with the countries of the world sorted by their gross domestic product per capita from Wikipedia;\n",
    "11. Dropping the column 'Rank', renamed the remaining columns and the countries whose names were different than in the previous dataframes;\n",
    "12. Merging the three WHO dataframes into a new one;\n",
    "13. Renaming the countries whose names were different in a way that it would be recognizable by Tableau maps.\n",
    "14. Merging the GDP dataframe with the three WHO dataframes into a new one;\n",
    "15. Dropping null data and the columns 'Data Source','Year_x', and 'Year_y';\n",
    "16. Exporting the final dataframe as a \".csv\" file.\n",
    "17. Importing the file into Tableau;\n",
    "18. Creating 8 dashboards and a story to analize the dataframe created.\n",
    "\n",
    "#### Problems faced:\n",
    "\n",
    "- The dataframes had data obtained in different years, from 2012 to 2017, therefore, there were some minor inconsistencies;\n",
    "- Country names had to be standardized before merging the dataframes;\n",
    "- Tableau is not as intuitive as it looks;\n",
    "\n",
    "#### Technologies used:\n",
    "\n",
    "- Python;\n",
    "- Pandas;\n",
    "- Tableau.\n",
    "\n",
    "#### Tableau views:\n",
    "\n",
    "a) The name of the project: \"ROAD TRAFFIC DEATHS IN THE WORLD IN 2016 - Exploratory Data Analysis\":<br/>\n",
    "<img src='story1.jpg' width='800px' />\n",
    "<br/>\n",
    "b) Top 10 countries (total number of deaths):<br/>\n",
    "<img src='story2.jpg' width='800px' />\n",
    "<br/>\n",
    "c) Top 10 countries (death rate per 100,000 population):<br/>\n",
    "<img src='story3.jpg' width='800px' />\n",
    "<br/>\n",
    "d) Top 10 countries (lowest total number of deaths):<br/>\n",
    "<img src='story4.jpg' width='800px' />\n",
    "<br/>\n",
    "e) Top 10 countries (lowest death rate per 100,000 population):<br/>\n",
    "<img src='story5.jpg' width='800px' />\n",
    "<br/>\n",
    "f) Top 10 countries (distribution of road traffic deaths by type of road user):<br/>\n",
    "<img src='story6.jpg' width='800px' />\n",
    "<br/>\n",
    "g) Top 20 in number of registered vehicles / Total road traffic deaths:<br/>\n",
    "<img src='story7.jpg' width='800px' />\n",
    "<br/>\n",
    "h) Conclusion:<br/>\n",
    "<img src='story8.jpg' width='800px' />    \n",
    "___________________________________________________________________________________________________________________________\n",
    "\n",
    "## Tableau link for the project:\n",
    "\n",
    "https://public.tableau.com/profile/marcus.brand.o#!/vizhome/Roadtrafficdeathsbycountry-2016/Dash-F?publish=yes\n",
    "___________________________________________________________________________________________________________________________\n",
    "\n",
    "## Colaborator:\n",
    "\n",
    "Marcus Brandão\n",
    "___________________________________________________________________________________________________________________________"
   ]
  },
  {
   "cell_type": "markdown",
   "metadata": {},
   "source": [
    "## The code:"
   ]
  },
  {
   "cell_type": "code",
   "execution_count": null,
   "metadata": {
    "ExecuteTime": {
     "end_time": "2020-08-04T19:21:21.156866Z",
     "start_time": "2020-08-04T19:21:01.359873Z"
    }
   },
   "outputs": [],
   "source": [
    "# Importing modules:\n",
    "\n",
    "import pandas as pd\n",
    "import re"
   ]
  },
  {
   "cell_type": "markdown",
   "metadata": {},
   "source": [
    "#### 1 - First dataframe: Road traffic deaths by country (World Health Organization):"
   ]
  },
  {
   "cell_type": "code",
   "execution_count": null,
   "metadata": {
    "ExecuteTime": {
     "end_time": "2020-08-04T19:21:49.267339Z",
     "start_time": "2020-08-04T19:21:49.186104Z"
    }
   },
   "outputs": [],
   "source": [
    "# Importing the dataframe with the road traffic deaths by country:\n",
    "\n",
    "df1 = pd.read_csv(\"./RS_196,RS_198.csv\", sep=\",\")"
   ]
  },
  {
   "cell_type": "code",
   "execution_count": null,
   "metadata": {
    "ExecuteTime": {
     "end_time": "2020-08-04T19:21:51.769991Z",
     "start_time": "2020-08-04T19:21:51.762014Z"
    }
   },
   "outputs": [],
   "source": [
    "# Getting the information about the dataframe 'df1':\n",
    "\n",
    "df1.info()"
   ]
  },
  {
   "cell_type": "code",
   "execution_count": null,
   "metadata": {
    "ExecuteTime": {
     "end_time": "2020-08-04T19:21:55.080834Z",
     "start_time": "2020-08-04T19:21:55.049677Z"
    }
   },
   "outputs": [],
   "source": [
    "# Visualizing the first 5 rows of the dataframe 'df1':\n",
    "\n",
    "df1.head(5)"
   ]
  },
  {
   "cell_type": "code",
   "execution_count": null,
   "metadata": {
    "ExecuteTime": {
     "end_time": "2020-08-04T19:21:59.020842Z",
     "start_time": "2020-08-04T19:21:59.001897Z"
    }
   },
   "outputs": [],
   "source": [
    "# Dropping the first row, because it is a subheading:\n",
    "\n",
    "df1 = df1.drop(0)\n",
    "df1"
   ]
  },
  {
   "cell_type": "code",
   "execution_count": null,
   "metadata": {
    "ExecuteTime": {
     "end_time": "2020-08-04T19:22:08.477183Z",
     "start_time": "2020-08-04T19:22:08.464218Z"
    }
   },
   "outputs": [],
   "source": [
    "# Renaming the first column to \"country\":\n",
    "\n",
    "df1 = df1.rename(columns = {'Unnamed: 0': 'Country'})\n",
    "df1"
   ]
  },
  {
   "cell_type": "code",
   "execution_count": null,
   "metadata": {
    "ExecuteTime": {
     "end_time": "2020-08-04T19:22:14.732270Z",
     "start_time": "2020-08-04T19:22:14.721301Z"
    }
   },
   "outputs": [],
   "source": [
    "# Eliminating the spaces in the column \"Estimated number of road traffic deaths\":\n",
    "\n",
    "df1[\"Estimated number of road traffic deaths\"] = df1[\"Estimated number of road traffic deaths\"].str.replace(\" \", \"\")\n",
    "df1"
   ]
  },
  {
   "cell_type": "code",
   "execution_count": null,
   "metadata": {
    "ExecuteTime": {
     "end_time": "2020-08-04T19:22:20.032770Z",
     "start_time": "2020-08-04T19:22:20.023803Z"
    }
   },
   "outputs": [],
   "source": [
    "'''\n",
    "Eliminating the square brackets, keeping only the mean values of each row of the column\n",
    "\"Estimated number of road traffic deaths\" and changing its type to integers:\n",
    "'''\n",
    "\n",
    "df1[\"Estimated number of road traffic deaths\"] = df1[\"Estimated number of road traffic deaths\"].apply(lambda x: int(re.findall('\\d*', x)[0]))\n",
    "df1.info()"
   ]
  },
  {
   "cell_type": "code",
   "execution_count": null,
   "metadata": {
    "ExecuteTime": {
     "end_time": "2020-08-04T19:22:23.657759Z",
     "start_time": "2020-08-04T19:22:23.650781Z"
    }
   },
   "outputs": [],
   "source": [
    "# Visualizing the final result of the \"df1\" dataframe:\n",
    "\n",
    "df1.head(5)"
   ]
  },
  {
   "cell_type": "markdown",
   "metadata": {},
   "source": [
    "#### 2 - Second dataframe: Registered vehicles by country (World Health Organization):"
   ]
  },
  {
   "cell_type": "code",
   "execution_count": null,
   "metadata": {
    "ExecuteTime": {
     "end_time": "2020-08-04T19:22:26.977575Z",
     "start_time": "2020-08-04T19:22:26.959623Z"
    }
   },
   "outputs": [],
   "source": [
    "# Importing the dataframe with the registered vehicles by country:\n",
    "\n",
    "df2 = pd.read_csv(\"./RS_194.csv\", sep=\",\")"
   ]
  },
  {
   "cell_type": "code",
   "execution_count": null,
   "metadata": {
    "ExecuteTime": {
     "end_time": "2020-08-04T19:22:29.276067Z",
     "start_time": "2020-08-04T19:22:29.270085Z"
    }
   },
   "outputs": [],
   "source": [
    "# Getting the information about the dataframe 'df2':\n",
    "\n",
    "df2.info()"
   ]
  },
  {
   "cell_type": "code",
   "execution_count": null,
   "metadata": {
    "ExecuteTime": {
     "end_time": "2020-08-04T19:22:31.748964Z",
     "start_time": "2020-08-04T19:22:31.740988Z"
    }
   },
   "outputs": [],
   "source": [
    "# Visualizing the first 5 rows of the dataframe 'df2':\n",
    "\n",
    "df2.head(5)"
   ]
  },
  {
   "cell_type": "code",
   "execution_count": null,
   "metadata": {
    "ExecuteTime": {
     "end_time": "2020-08-04T19:22:34.613107Z",
     "start_time": "2020-08-04T19:22:34.594161Z"
    }
   },
   "outputs": [],
   "source": [
    "# Eliminating the spaces in the column \"Number of registered vehicles\" and changing its type to float:\n",
    "\n",
    "df2[\"Number of registered vehicles\"] = df2[\"Number of registered vehicles\"].str.replace(\" \", \"\").astype(float)\n",
    "df2"
   ]
  },
  {
   "cell_type": "markdown",
   "metadata": {},
   "source": [
    "#### 3 - Third dataframe: Reported distribution of road traffic deaths by type of road user by country (World Health Organization):"
   ]
  },
  {
   "cell_type": "code",
   "execution_count": null,
   "metadata": {
    "ExecuteTime": {
     "end_time": "2020-08-04T19:22:38.275595Z",
     "start_time": "2020-08-04T19:22:38.246914Z"
    }
   },
   "outputs": [],
   "source": [
    "# Importing the dataframe with the reported distribution of road traffic deaths by type of road user by country:\n",
    "\n",
    "df3 = pd.read_csv(\"./RS_246.csv\", sep=\",\", skiprows=1)"
   ]
  },
  {
   "cell_type": "code",
   "execution_count": null,
   "metadata": {
    "ExecuteTime": {
     "end_time": "2020-08-04T19:22:41.073410Z",
     "start_time": "2020-08-04T19:22:41.066433Z"
    }
   },
   "outputs": [],
   "source": [
    "# Getting the information about the dataframe 'df3':\n",
    "\n",
    "df3.info()"
   ]
  },
  {
   "cell_type": "code",
   "execution_count": null,
   "metadata": {
    "ExecuteTime": {
     "end_time": "2020-08-04T19:22:44.560490Z",
     "start_time": "2020-08-04T19:22:44.549493Z"
    }
   },
   "outputs": [],
   "source": [
    "# Visualizing the first 5 rows of the dataframe 'df3':\n",
    "\n",
    "df3.head(5)"
   ]
  },
  {
   "cell_type": "code",
   "execution_count": null,
   "metadata": {
    "ExecuteTime": {
     "end_time": "2020-08-04T19:22:48.102497Z",
     "start_time": "2020-08-04T19:22:48.098507Z"
    }
   },
   "outputs": [],
   "source": [
    "# Eliminating the non-numeric characters from the items in the column ' Drivers/passengers of 4-wheeled vehicles':\n",
    "\n",
    "df3[\" Drivers/passengers of 4-wheeled vehicles\"] = df3[\" Drivers/passengers of 4-wheeled vehicles\"].apply(lambda x : x if x != x else re.sub('[a-zA-Z]', '', x))"
   ]
  },
  {
   "cell_type": "code",
   "execution_count": null,
   "metadata": {
    "ExecuteTime": {
     "end_time": "2020-08-04T19:22:51.366042Z",
     "start_time": "2020-08-04T19:22:51.357056Z"
    }
   },
   "outputs": [],
   "source": [
    "# Checking the column 'Country' values:\n",
    "\n",
    "df3['Country'].values"
   ]
  },
  {
   "cell_type": "code",
   "execution_count": null,
   "metadata": {
    "ExecuteTime": {
     "end_time": "2020-08-04T19:22:55.744041Z",
     "start_time": "2020-08-04T19:22:55.738062Z"
    }
   },
   "outputs": [],
   "source": [
    "# Dropping the duplicate row for the country 'Eswatini'\n",
    "\n",
    "eswatini_to_drop = df3.loc[(df3['Country'] == 'Eswatini') & (df3['Year'] == 2013)].index\n",
    "df3.drop(eswatini_to_drop, inplace=True)"
   ]
  },
  {
   "cell_type": "code",
   "execution_count": null,
   "metadata": {
    "ExecuteTime": {
     "end_time": "2020-08-04T19:22:58.511475Z",
     "start_time": "2020-08-04T19:22:58.506488Z"
    }
   },
   "outputs": [],
   "source": [
    "# Checking the column 'Country' again:\n",
    "\n",
    "df3['Country'].values"
   ]
  },
  {
   "cell_type": "code",
   "execution_count": null,
   "metadata": {
    "ExecuteTime": {
     "end_time": "2020-08-04T19:23:04.859914Z",
     "start_time": "2020-08-04T19:23:04.850909Z"
    }
   },
   "outputs": [],
   "source": [
    "df3.head(5)"
   ]
  },
  {
   "cell_type": "markdown",
   "metadata": {},
   "source": [
    "#### 4 - Fourth dataframe: United Nations table with the countries of the world sorted by their gross domestic product per capita from Wikipedia:"
   ]
  },
  {
   "cell_type": "code",
   "execution_count": null,
   "metadata": {
    "ExecuteTime": {
     "end_time": "2020-08-04T19:23:11.309630Z",
     "start_time": "2020-08-04T19:23:08.379906Z"
    }
   },
   "outputs": [],
   "source": [
    "# Scraping a table with the countries of the world sorted by their gross domestic product per capita from Wikipedia:\n",
    "\n",
    "link = 'https://en.wikipedia.org/wiki/List_of_countries_by_GDP_(nominal)_per_capita'\n",
    "\n",
    "df4 = pd.read_html(link,header=0)[4]\n",
    "df4"
   ]
  },
  {
   "cell_type": "code",
   "execution_count": null,
   "metadata": {
    "ExecuteTime": {
     "end_time": "2020-08-04T19:23:16.120394Z",
     "start_time": "2020-08-04T19:23:16.116370Z"
    }
   },
   "outputs": [],
   "source": [
    "# Dropping the column 'Rank':\n",
    "\n",
    "df4 = df4.drop('Rank', axis=1)"
   ]
  },
  {
   "cell_type": "code",
   "execution_count": null,
   "metadata": {
    "ExecuteTime": {
     "end_time": "2020-08-04T19:23:18.693597Z",
     "start_time": "2020-08-04T19:23:18.689613Z"
    }
   },
   "outputs": [],
   "source": [
    "# Renaming the remaining columns:\n",
    "\n",
    "df4.columns = ['Country', 'GDP(US$)']"
   ]
  },
  {
   "cell_type": "code",
   "execution_count": null,
   "metadata": {
    "ExecuteTime": {
     "end_time": "2020-08-04T19:23:20.889415Z",
     "start_time": "2020-08-04T19:23:20.882441Z"
    }
   },
   "outputs": [],
   "source": [
    "# Renaming the countries whose names are different than in the previous dataframes:\n",
    "\n",
    "def df4_clean_country(arg):\n",
    "    arg = re.sub('\\s\\(.*', '', arg)\n",
    "    if arg == 'Bahamas, The':\n",
    "        arg = 'Bahamas'\n",
    "    elif arg == 'Cape Verde':\n",
    "        arg = 'Cabo Verde'        \n",
    "    elif arg == 'Congo, Republic of the':\n",
    "        arg = 'Congo'\n",
    "    elif arg == 'Congo, Democratic Republic of the':\n",
    "        arg = 'Democratic Republic of the Congo'\n",
    "    elif arg == 'Czech Republic':\n",
    "        arg = 'Czechia'  \n",
    "    elif arg == 'East Timor':\n",
    "        arg = 'Timor-Leste'               \n",
    "    elif arg == 'Gambia, The':\n",
    "        arg = 'Gambia'         \n",
    "    elif arg == 'Korea, South':\n",
    "        arg = 'South Korea'\n",
    "    elif arg == 'Micronesia, Federated States of':\n",
    "        arg = 'Micronesia'\n",
    "    elif arg == \"São Tomé and Príncipe\":\n",
    "        arg = 'Sao Tome and Principe'\n",
    "    elif arg == 'United States':\n",
    "        arg = 'United States of America'\n",
    "    elif arg == 'Vietnam':\n",
    "        arg = 'Viet Nam'\n",
    "    return arg\n",
    "\n",
    "df4[\"Country\"] = df4[\"Country\"].apply(df4_clean_country)"
   ]
  },
  {
   "cell_type": "code",
   "execution_count": null,
   "metadata": {
    "ExecuteTime": {
     "end_time": "2020-08-04T19:23:24.379016Z",
     "start_time": "2020-08-04T19:23:24.372036Z"
    }
   },
   "outputs": [],
   "source": [
    "# Checking the column 'Country' again:\n",
    "\n",
    "df4[\"Country\"].values.tolist()"
   ]
  },
  {
   "cell_type": "markdown",
   "metadata": {},
   "source": [
    "#### List with all the analyzed countries:"
   ]
  },
  {
   "cell_type": "code",
   "execution_count": null,
   "metadata": {
    "ExecuteTime": {
     "end_time": "2020-08-04T19:23:27.378984Z",
     "start_time": "2020-08-04T19:23:27.373001Z"
    }
   },
   "outputs": [],
   "source": [
    "# Turning the coluns 'Country' of each dataframe into lists:\n",
    "\n",
    "df1['Country'].values.tolist()\n",
    "df2['Country'].values.tolist()\n",
    "df3['Country'].values.tolist()\n",
    "df4[\"Country\"].values.tolist()\n",
    "\n",
    "countries = sorted(list(set(df1['Country'].values.tolist() + df2['Country'].values.tolist() + df3['Country'].values.tolist() + df4[\"Country\"].values.tolist())))"
   ]
  },
  {
   "cell_type": "code",
   "execution_count": null,
   "metadata": {
    "ExecuteTime": {
     "end_time": "2020-08-04T19:23:30.952004Z",
     "start_time": "2020-08-04T19:23:30.947017Z"
    }
   },
   "outputs": [],
   "source": [
    "len(countries)"
   ]
  },
  {
   "cell_type": "markdown",
   "metadata": {},
   "source": [
    "#### Merging the three dataframes into a new one:"
   ]
  },
  {
   "cell_type": "code",
   "execution_count": null,
   "metadata": {
    "ExecuteTime": {
     "end_time": "2020-08-04T19:23:34.771659Z",
     "start_time": "2020-08-04T19:23:34.755704Z"
    }
   },
   "outputs": [],
   "source": [
    "# Creating a final datafram 'df5' as a result of the merging of the 'df1 and 'df2' ones:\n",
    "\n",
    "df5 = df1.merge(df2, how='outer', on='Country')\n",
    "df5.head(5)"
   ]
  },
  {
   "cell_type": "code",
   "execution_count": null,
   "metadata": {
    "ExecuteTime": {
     "end_time": "2020-08-04T19:23:39.441395Z",
     "start_time": "2020-08-04T19:23:39.400071Z"
    }
   },
   "outputs": [],
   "source": [
    "# Merging the final dataframe with dataframe 'df3':\n",
    "\n",
    "df5 = df5.merge(df3, how='outer', on='Country')\n",
    "df5.head(5)"
   ]
  },
  {
   "cell_type": "code",
   "execution_count": null,
   "metadata": {
    "ExecuteTime": {
     "end_time": "2020-08-04T19:23:42.491880Z",
     "start_time": "2020-08-04T19:23:42.488887Z"
    }
   },
   "outputs": [],
   "source": [
    "# Cleaning the column 'Country' before merging with the dataframe 'df4' to avoid duplicates:\n",
    "\n",
    "#df5[\"Country\"] = df5[\"Country\"].apply(lambda x : x if x != x else re.sub('\\s\\(.*', '', x))"
   ]
  },
  {
   "cell_type": "code",
   "execution_count": null,
   "metadata": {
    "ExecuteTime": {
     "end_time": "2020-08-04T19:24:13.442120Z",
     "start_time": "2020-08-04T19:24:13.435107Z"
    }
   },
   "outputs": [],
   "source": [
    "# Cleaning and renaming the countries whose names are different than in the previous dataframes, to avoid duplicates:\n",
    "\n",
    "def df5_clean_country(arg):\n",
    "    arg = re.sub('\\s\\(.*', '', arg)\n",
    "    if arg == \"Lao People's Democratic Republic\":\n",
    "        arg = 'Laos'\n",
    "    elif arg == 'Republic of Korea':\n",
    "        arg = 'South Korea'    \n",
    "    elif arg == 'Republic of North Macedonia':\n",
    "        arg = 'North Macedonia'         \n",
    "    elif arg == 'Republic of Moldova':\n",
    "        arg = 'Moldova'  \n",
    "    elif arg == 'occupied Palestinian territory, including east Jerusalem':\n",
    "        arg = 'Palestine'    \n",
    "    elif arg == 'Russian Federation':\n",
    "        arg = 'Russia'\n",
    "    elif arg == 'Syrian Arab Republic':\n",
    "        arg = 'Syria'     \n",
    "    elif arg == 'United Kingdom of Great Britain and Northern Ireland':\n",
    "        arg = 'United Kingdom' \n",
    "    elif arg == 'United Republic of Tanzania':\n",
    "        arg = 'Tanzania'     \n",
    "    return arg\n",
    "\n",
    "df5[\"Country\"] = df5[\"Country\"].apply(df5_clean_country)"
   ]
  },
  {
   "cell_type": "code",
   "execution_count": null,
   "metadata": {
    "ExecuteTime": {
     "end_time": "2020-08-04T19:24:16.503312Z",
     "start_time": "2020-08-04T19:24:16.497337Z"
    }
   },
   "outputs": [],
   "source": [
    "# Merging the final dataframe with dataframe 'df4':\n",
    "\n",
    "df5 = df5.merge(df4, how='left', on='Country')"
   ]
  },
  {
   "cell_type": "code",
   "execution_count": null,
   "metadata": {
    "ExecuteTime": {
     "end_time": "2020-08-04T19:24:18.640851Z",
     "start_time": "2020-08-04T19:24:18.620900Z"
    }
   },
   "outputs": [],
   "source": [
    "# Final dataframe:\n",
    "\n",
    "df5"
   ]
  },
  {
   "cell_type": "code",
   "execution_count": null,
   "metadata": {
    "ExecuteTime": {
     "end_time": "2020-08-04T19:24:26.854854Z",
     "start_time": "2020-08-04T19:24:26.848865Z"
    }
   },
   "outputs": [],
   "source": [
    "# Checking for missing data in the column 'GDP(US$)':\n",
    "\n",
    "df6 = df5[df5['GDP(US$)'].isna()]\n",
    "df6['Country'].values.tolist()"
   ]
  },
  {
   "cell_type": "code",
   "execution_count": null,
   "metadata": {
    "ExecuteTime": {
     "end_time": "2020-08-04T19:24:36.589427Z",
     "start_time": "2020-08-04T19:24:36.569511Z"
    }
   },
   "outputs": [],
   "source": [
    "# Checking for null data in the dataframe 'df5':\n",
    "\n",
    "mask = df5.isnull().any(axis=1)\n",
    "\n",
    "df5[mask]"
   ]
  },
  {
   "cell_type": "code",
   "execution_count": null,
   "metadata": {
    "ExecuteTime": {
     "end_time": "2020-07-30T05:27:30.822633Z",
     "start_time": "2020-07-30T05:27:30.816650Z"
    }
   },
   "outputs": [],
   "source": [
    "# Dropping rows with less than 2 filled columns:\n",
    "\n",
    "df5 = df5.dropna(axis=0, thresh=2)"
   ]
  },
  {
   "cell_type": "code",
   "execution_count": null,
   "metadata": {
    "ExecuteTime": {
     "end_time": "2020-07-30T05:27:33.242062Z",
     "start_time": "2020-07-30T05:27:33.221108Z"
    }
   },
   "outputs": [],
   "source": [
    "# Checking the final dataframe:\n",
    "\n",
    "df5"
   ]
  },
  {
   "cell_type": "code",
   "execution_count": null,
   "metadata": {
    "ExecuteTime": {
     "end_time": "2020-07-30T05:27:46.343142Z",
     "start_time": "2020-07-30T05:27:46.338158Z"
    }
   },
   "outputs": [],
   "source": [
    "# Dropping useless columns:\n",
    "\n",
    "df5 = df5.drop(['Data Source','Year_x', 'Year_y'], axis=1)"
   ]
  },
  {
   "cell_type": "code",
   "execution_count": null,
   "metadata": {
    "ExecuteTime": {
     "end_time": "2020-07-30T05:27:48.723838Z",
     "start_time": "2020-07-30T05:27:48.718846Z"
    }
   },
   "outputs": [],
   "source": [
    "# Checking columns' names, turning the 'df5' columns into a list:\n",
    "\n",
    "df5.columns.values.tolist()"
   ]
  },
  {
   "cell_type": "code",
   "execution_count": null,
   "metadata": {
    "ExecuteTime": {
     "end_time": "2020-07-30T11:58:42.853798Z",
     "start_time": "2020-07-30T11:58:42.847810Z"
    }
   },
   "outputs": [],
   "source": [
    "# Reorganizing and renaming the columns of the 'df5' dataframe:\n",
    "\n",
    "df5.columns = ['Country',\n",
    " 'Estimated number of road traffic deaths',\n",
    " 'Estimated road traffic death rate (per 100,000 population)',\n",
    " 'Number of registered vehicles',\n",
    " 'Drivers/passengers of 4-wheeled vehicles (%)',\n",
    " 'Drivers/passengers of motorized 2- or 3-wheelers (%)',\n",
    " 'Cyclists (%)',\n",
    " 'Pedestrians (%)',\n",
    " 'Other/unspecified road users (%)',\n",
    " 'GDP(US$)']"
   ]
  },
  {
   "cell_type": "code",
   "execution_count": null,
   "metadata": {
    "ExecuteTime": {
     "end_time": "2020-07-30T05:36:44.918202Z",
     "start_time": "2020-07-30T05:36:44.909221Z"
    }
   },
   "outputs": [],
   "source": [
    "# Checking columns' names, turning the 'df5' columns into a list:\n",
    "\n",
    "df5['Country'].values.tolist()"
   ]
  },
  {
   "cell_type": "markdown",
   "metadata": {},
   "source": [
    "#### Exporting the final file:"
   ]
  },
  {
   "cell_type": "code",
   "execution_count": null,
   "metadata": {
    "ExecuteTime": {
     "end_time": "2020-08-05T14:32:22.704695Z",
     "start_time": "2020-08-05T14:32:22.532258Z"
    }
   },
   "outputs": [],
   "source": [
    "# Exporting the final file as a '.csv' document:\n",
    "\n",
    "df5.to_csv(\"who_road_traffic_deaths.csv\", index=False)"
   ]
  }
 ],
 "metadata": {
  "hide_input": false,
  "kernelspec": {
   "display_name": "Python 3",
   "language": "python",
   "name": "python3"
  },
  "language_info": {
   "codemirror_mode": {
    "name": "ipython",
    "version": 3
   },
   "file_extension": ".py",
   "mimetype": "text/x-python",
   "name": "python",
   "nbconvert_exporter": "python",
   "pygments_lexer": "ipython3",
   "version": "3.8.2"
  },
  "varInspector": {
   "cols": {
    "lenName": 16,
    "lenType": 16,
    "lenVar": 40
   },
   "kernels_config": {
    "python": {
     "delete_cmd_postfix": "",
     "delete_cmd_prefix": "del ",
     "library": "var_list.py",
     "varRefreshCmd": "print(var_dic_list())"
    },
    "r": {
     "delete_cmd_postfix": ") ",
     "delete_cmd_prefix": "rm(",
     "library": "var_list.r",
     "varRefreshCmd": "cat(var_dic_list()) "
    }
   },
   "types_to_exclude": [
    "module",
    "function",
    "builtin_function_or_method",
    "instance",
    "_Feature"
   ],
   "window_display": false
  }
 },
 "nbformat": 4,
 "nbformat_minor": 4
}
