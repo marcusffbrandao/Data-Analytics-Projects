{
 "cells": [
  {
   "cell_type": "markdown",
   "metadata": {},
   "source": [
    "# Ironhack - Data Analytics Bootcamp\n",
    "___________________________________________________________________________________________________________________________"
   ]
  },
  {
   "cell_type": "markdown",
   "metadata": {},
   "source": [
    "## Project 2 - Shark Attacks\n",
    "\n",
    "Data Cleaning and Manipulation"
   ]
  },
  {
   "cell_type": "markdown",
   "metadata": {},
   "source": [
    "### Main Objectives\n",
    "\n",
    "The dataset provided by Ironhack contains significantly messy data. Your job is to apply the different cleaning and manipulation techniques to generate a cleaner CSV version of this data.\n",
    "\n",
    "<img src=\"./objectives.jpg\" width=\"600px\"/>\n",
    "\n",
    "### Main Objectives - HINT: Make yourself focused\n",
    "\n",
    "Ask a question to the dataset and try to answer it using data. This will focus your cleaning and data manipulation through the process.\n",
    "\n",
    "### More Objectives\n",
    "\n",
    "In the process of answering that question, we believe you’ll feel the need of some tools like:\n",
    "- Visualization techniques;\n",
    "- Statistics;\n",
    "- More data sources;\n",
    "All of which we’ll handle in near future.\n",
    "\n",
    "### The Data Set\n",
    "\n",
    "- Go to kaggle.com and create an account;\n",
    "- Go to the search bar and look for ‘Global Shark Attacks’;\n",
    "- Download the data set;\n",
    "- For more info: https://www.sharkattackfile.net.\n",
    "\n",
    "### Deliverables\n",
    "\n",
    "- A clean CSV file on your GitHub account;\n",
    "- The url of the file on your GitHub. It should be able to be read using \"pd.read_csv(url)\";\n",
    "- The link to the Jupyter notebook (or the GitHub project);\n",
    "\n",
    "### Deadline\n",
    "\n",
    "- The same day."
   ]
  },
  {
   "cell_type": "markdown",
   "metadata": {},
   "source": [
    "### Methodology:\n",
    "\n",
    "When we analyzed this data set, we realized that the best approach would be to organize it based on the date on which the accidents occurred, which in addition to facilitating the search for past cases, makes it possible to know the times of the year and the periods of the day when they usually occur. Therefore, we chose the following steps:\n",
    "\n",
    "- importing modules \"pandas\", \"numpy\", \"regex\" and \"datetime\";\n",
    "- reading the file using pandas methods (head, info and shape);\n",
    "- cleaning the data set, dropping columns and rows with no or very few data and similar columns;\n",
    "- date treatment with the creation of three columns containing the years, days and months of the accidents;\n",
    "- time treatment by standardizing the format of the time when the accidents occurred;\n",
    "- creation of a new column with four day periods (morning, afternoon, night and \"wee hours\");\n",
    "- standardization of the sex field for better visualization and manipulation of data: \"M\" for male and \"F\" for female;\n",
    "- cleaning and changing formats of the field \"age\" for better visualization and manipulation of data;\n",
    "- changing the field \"fatal\" to \"True\" or \"False\", for better manipulation of the data; and\n",
    "- organizing all the columns of the data set in a more logical way, such as placing \"activity\", \"type\", \"injury\" and \"fatal\" next to each other.\n",
    "\n",
    "### Technologies used:\n",
    "\n",
    "- Python\n",
    "- Pandas"
   ]
  },
  {
   "cell_type": "markdown",
   "metadata": {},
   "source": [
    "***\n",
    "\n",
    "## Colaborators:\n",
    "\n",
    "- Marcus Brandão\n",
    "\n",
    "- Pedro Di Gianni\n",
    "***"
   ]
  },
  {
   "cell_type": "markdown",
   "metadata": {
    "ExecuteTime": {
     "end_time": "2020-06-16T17:14:29.923736Z",
     "start_time": "2020-06-16T17:14:29.919769Z"
    }
   },
   "source": [
    "## Reading file:"
   ]
  },
  {
   "cell_type": "code",
   "execution_count": null,
   "metadata": {
    "ExecuteTime": {
     "end_time": "2020-07-14T12:46:48.774052Z",
     "start_time": "2020-07-14T12:46:48.517385Z"
    }
   },
   "outputs": [],
   "source": [
    "import pandas as pd\n",
    "import numpy as np\n",
    "import re\n",
    "import datetime"
   ]
  },
  {
   "cell_type": "code",
   "execution_count": null,
   "metadata": {
    "ExecuteTime": {
     "end_time": "2020-07-14T12:46:53.482393Z",
     "start_time": "2020-07-14T12:46:53.478405Z"
    }
   },
   "outputs": [],
   "source": [
    "pd.set_option('display.max_columns', 24)"
   ]
  },
  {
   "cell_type": "code",
   "execution_count": null,
   "metadata": {
    "ExecuteTime": {
     "end_time": "2020-07-14T12:46:58.446057Z",
     "start_time": "2020-07-14T12:46:58.044801Z"
    }
   },
   "outputs": [],
   "source": [
    "# Import comma-separated file\n",
    "\n",
    "sharkattack = pd.read_csv('./attacks.csv', sep=',', encoding='latin-1')"
   ]
  },
  {
   "cell_type": "code",
   "execution_count": null,
   "metadata": {
    "ExecuteTime": {
     "end_time": "2020-07-14T12:47:01.331203Z",
     "start_time": "2020-07-14T12:47:01.300285Z"
    }
   },
   "outputs": [],
   "source": [
    "sharkattack.info()"
   ]
  },
  {
   "cell_type": "code",
   "execution_count": null,
   "metadata": {
    "ExecuteTime": {
     "end_time": "2020-07-14T12:47:07.164353Z",
     "start_time": "2020-07-14T12:47:07.121490Z"
    }
   },
   "outputs": [],
   "source": [
    "sharkattack.head(100)"
   ]
  },
  {
   "cell_type": "markdown",
   "metadata": {
    "ExecuteTime": {
     "end_time": "2020-06-16T17:15:19.573050Z",
     "start_time": "2020-06-16T17:15:19.568476Z"
    }
   },
   "source": [
    "## Cleaning data frame:"
   ]
  },
  {
   "cell_type": "markdown",
   "metadata": {
    "ExecuteTime": {
     "end_time": "2020-06-16T19:40:41.941776Z",
     "start_time": "2020-06-16T19:40:41.935792Z"
    }
   },
   "source": [
    "### - Dropping NaNs"
   ]
  },
  {
   "cell_type": "code",
   "execution_count": null,
   "metadata": {
    "ExecuteTime": {
     "end_time": "2020-07-14T12:47:29.497254Z",
     "start_time": "2020-07-14T12:47:29.308243Z"
    }
   },
   "outputs": [],
   "source": [
    "#dropping lines in which all values are NaN\n",
    "\n",
    "mask = sharkattack.isnull().sum(axis=1) > 19\n",
    "\n",
    "list_to_drop = sharkattack.loc[mask, :].index\n",
    "\n",
    "sharkattack = sharkattack.drop(list_to_drop)"
   ]
  },
  {
   "cell_type": "code",
   "execution_count": null,
   "metadata": {
    "ExecuteTime": {
     "end_time": "2020-07-14T12:47:36.742153Z",
     "start_time": "2020-07-14T12:47:36.733146Z"
    }
   },
   "outputs": [],
   "source": [
    "sharkattack = sharkattack.drop(columns=['Unnamed: 22', 'Unnamed: 23'])"
   ]
  },
  {
   "cell_type": "code",
   "execution_count": null,
   "metadata": {
    "ExecuteTime": {
     "end_time": "2020-07-14T12:47:39.140977Z",
     "start_time": "2020-07-14T12:47:39.136977Z"
    }
   },
   "outputs": [],
   "source": [
    "sharkattack.shape"
   ]
  },
  {
   "cell_type": "code",
   "execution_count": null,
   "metadata": {
    "ExecuteTime": {
     "end_time": "2020-07-14T12:47:41.972699Z",
     "start_time": "2020-07-14T12:47:41.948765Z"
    }
   },
   "outputs": [],
   "source": [
    "sharkattack.info()"
   ]
  },
  {
   "cell_type": "code",
   "execution_count": null,
   "metadata": {
    "ExecuteTime": {
     "end_time": "2020-07-14T12:47:45.752762Z",
     "start_time": "2020-07-14T12:47:45.706890Z"
    },
    "scrolled": true
   },
   "outputs": [],
   "source": [
    "sharkattack.head(10)"
   ]
  },
  {
   "cell_type": "markdown",
   "metadata": {},
   "source": [
    "### - Dropping similar columns:"
   ]
  },
  {
   "cell_type": "code",
   "execution_count": null,
   "metadata": {
    "ExecuteTime": {
     "end_time": "2020-07-14T12:48:17.138176Z",
     "start_time": "2020-07-14T12:48:17.027472Z"
    }
   },
   "outputs": [],
   "source": [
    "(sharkattack['href formula'] == sharkattack['href']).mean()"
   ]
  },
  {
   "cell_type": "code",
   "execution_count": null,
   "metadata": {
    "ExecuteTime": {
     "end_time": "2020-07-14T12:50:01.442436Z",
     "start_time": "2020-07-14T12:50:01.311584Z"
    }
   },
   "outputs": [],
   "source": [
    "#Dropping column \"href formula\", because it is 99% equal to \"href\"\n",
    "\n",
    "sharkattack['href formula'] == sharkattack['href']\n",
    "\n",
    "#sharkattack.loc[6304, 'href formula'] == sharkattack.loc[6304, 'href']\n",
    "\n",
    "sharkattack.loc[[6298, 6299], :]\n",
    "\n",
    "sharkattack = sharkattack.drop(columns='href formula')"
   ]
  },
  {
   "cell_type": "code",
   "execution_count": null,
   "metadata": {
    "ExecuteTime": {
     "end_time": "2020-07-14T12:50:04.771382Z",
     "start_time": "2020-07-14T12:50:04.765367Z"
    }
   },
   "outputs": [],
   "source": [
    "(sharkattack['Case Number.2'] == sharkattack['Case Number.1']).mean()"
   ]
  },
  {
   "cell_type": "code",
   "execution_count": null,
   "metadata": {
    "ExecuteTime": {
     "end_time": "2020-07-14T12:50:24.870184Z",
     "start_time": "2020-07-14T12:50:24.857214Z"
    }
   },
   "outputs": [],
   "source": [
    "#Dropping column \"Case Number.2\", because it is 99% equal to \"Case Number.1\"\n",
    "\n",
    "sharkattack['Case Number.2'] == sharkattack['Case Number.1']\n",
    "\n",
    "#sharkattack.loc[6304, 'href formula'] == sharkattack.loc[6304, 'href']\n",
    "\n",
    "sharkattack = sharkattack.drop(columns='Case Number.2')"
   ]
  },
  {
   "cell_type": "code",
   "execution_count": null,
   "metadata": {
    "ExecuteTime": {
     "end_time": "2020-07-14T12:50:44.839509Z",
     "start_time": "2020-07-14T12:50:44.829565Z"
    }
   },
   "outputs": [],
   "source": [
    "(sharkattack['Case Number'] == sharkattack['Case Number.1']).mean()"
   ]
  },
  {
   "cell_type": "code",
   "execution_count": null,
   "metadata": {
    "ExecuteTime": {
     "end_time": "2020-07-14T12:50:48.658747Z",
     "start_time": "2020-07-14T12:50:48.649724Z"
    }
   },
   "outputs": [],
   "source": [
    "#Dropping column \"Case Number\", because it is 99% equal to \"Case Number.1\"\n",
    "\n",
    "sharkattack['Case Number'] == sharkattack['Case Number.1']\n",
    "\n",
    "#sharkattack.loc[6304, 'href formula'] == sharkattack.loc[6304, 'href']\n",
    "\n",
    "sharkattack = sharkattack.drop(columns='Case Number')\n"
   ]
  },
  {
   "cell_type": "code",
   "execution_count": null,
   "metadata": {
    "ExecuteTime": {
     "end_time": "2020-07-14T12:50:51.819015Z",
     "start_time": "2020-07-14T12:50:51.802052Z"
    }
   },
   "outputs": [],
   "source": [
    "sharkattack.info()"
   ]
  },
  {
   "cell_type": "markdown",
   "metadata": {},
   "source": [
    "## Data Treatment:"
   ]
  },
  {
   "cell_type": "markdown",
   "metadata": {
    "ExecuteTime": {
     "end_time": "2020-06-16T17:31:03.732071Z",
     "start_time": "2020-06-16T17:31:03.728106Z"
    }
   },
   "source": [
    "### - Time"
   ]
  },
  {
   "cell_type": "code",
   "execution_count": null,
   "metadata": {
    "ExecuteTime": {
     "end_time": "2020-07-14T12:51:00.772055Z",
     "start_time": "2020-07-14T12:51:00.748100Z"
    }
   },
   "outputs": [],
   "source": [
    "# Identifying in which cells the data starts with a number, so we can turn this series into an integer\n",
    "sharkattack[\"Time\"]=sharkattack[\"Time\"].astype(str)\n",
    "sharkattack[\"Time\"]=sharkattack[\"Time\"].apply(lambda x: re.findall(\"^\\d{,2}\",x)[0:2])"
   ]
  },
  {
   "cell_type": "code",
   "execution_count": null,
   "metadata": {
    "ExecuteTime": {
     "end_time": "2020-07-14T12:51:05.106933Z",
     "start_time": "2020-07-14T12:51:05.100981Z"
    }
   },
   "outputs": [],
   "source": [
    "sharkattack[\"Time\"]=sharkattack[\"Time\"].apply(lambda x: x[0])"
   ]
  },
  {
   "cell_type": "code",
   "execution_count": null,
   "metadata": {
    "ExecuteTime": {
     "end_time": "2020-07-14T12:51:08.261058Z",
     "start_time": "2020-07-14T12:51:08.238119Z"
    }
   },
   "outputs": [],
   "source": [
    "nullnumbers = sharkattack[\"Time\"]==\"\"\n",
    "sharkattack.loc[nullnumbers,\"Time\"]=-1\n",
    "sharkattack.head(5)"
   ]
  },
  {
   "cell_type": "code",
   "execution_count": null,
   "metadata": {
    "ExecuteTime": {
     "end_time": "2020-07-14T12:51:17.284922Z",
     "start_time": "2020-07-14T12:51:17.263257Z"
    }
   },
   "outputs": [],
   "source": [
    "sharkattack[\"Day Period\"]=sharkattack[\"Time\"].astype(int)"
   ]
  },
  {
   "cell_type": "code",
   "execution_count": null,
   "metadata": {
    "ExecuteTime": {
     "end_time": "2020-07-14T12:51:22.561822Z",
     "start_time": "2020-07-14T12:51:22.456356Z"
    }
   },
   "outputs": [],
   "source": [
    "#Creating Day Period based on the criteria below\n",
    "nodata = sharkattack[\"Day Period\"]==-1\n",
    "wee_hours = (sharkattack[\"Day Period\"]>=0) & (sharkattack[\"Day Period\"]<6)\n",
    "morning = (sharkattack[\"Day Period\"]>=6) & (sharkattack[\"Day Period\"]<12)\n",
    "afternoon = (sharkattack[\"Day Period\"]>=12) & (sharkattack[\"Day Period\"]<18)\n",
    "night = (sharkattack[\"Day Period\"]>=18)"
   ]
  },
  {
   "cell_type": "code",
   "execution_count": null,
   "metadata": {
    "ExecuteTime": {
     "end_time": "2020-07-14T12:51:24.751369Z",
     "start_time": "2020-07-14T12:51:24.734414Z"
    }
   },
   "outputs": [],
   "source": [
    "sharkattack.loc[nodata,\"Day Period\"]=\"No Data\"\n",
    "sharkattack.loc[morning,\"Day Period\"]=\"Morning\"\n",
    "sharkattack.loc[afternoon,\"Day Period\"]=\"Afternoon\"\n",
    "sharkattack.loc[night,\"Day Period\"]=\"Night\"\n",
    "sharkattack.loc[wee_hours,\"Day Period\"]=\"Wee hours\""
   ]
  },
  {
   "cell_type": "code",
   "execution_count": null,
   "metadata": {
    "ExecuteTime": {
     "end_time": "2020-07-14T12:51:27.275928Z",
     "start_time": "2020-07-14T12:51:27.258972Z"
    }
   },
   "outputs": [],
   "source": [
    "sharkattack[\"Day Period\"].value_counts()"
   ]
  },
  {
   "cell_type": "code",
   "execution_count": null,
   "metadata": {
    "ExecuteTime": {
     "end_time": "2020-07-14T12:51:29.754642Z",
     "start_time": "2020-07-14T12:51:29.747686Z"
    }
   },
   "outputs": [],
   "source": [
    "sharkattack.loc[nullnumbers,\"Time\"]=np.nan"
   ]
  },
  {
   "cell_type": "code",
   "execution_count": null,
   "metadata": {
    "ExecuteTime": {
     "end_time": "2020-07-14T12:51:32.851028Z",
     "start_time": "2020-07-14T12:51:32.831110Z"
    }
   },
   "outputs": [],
   "source": [
    "sharkattack.head(8)"
   ]
  },
  {
   "cell_type": "markdown",
   "metadata": {},
   "source": [
    "### - Age"
   ]
  },
  {
   "cell_type": "code",
   "execution_count": null,
   "metadata": {
    "ExecuteTime": {
     "end_time": "2020-07-14T12:51:36.581745Z",
     "start_time": "2020-07-14T12:51:36.515988Z"
    }
   },
   "outputs": [],
   "source": [
    "sharkattack.groupby(by=\"Age\").count()"
   ]
  },
  {
   "cell_type": "code",
   "execution_count": null,
   "metadata": {
    "ExecuteTime": {
     "end_time": "2020-07-14T12:51:43.417588Z",
     "start_time": "2020-07-14T12:51:43.398629Z"
    }
   },
   "outputs": [],
   "source": [
    "#Identifying in which cells Age starts with a number so we can turn this column into an integer\n",
    "sharkattack[\"Age\"]=sharkattack[\"Age\"].astype(str)\n",
    "sharkattack[\"Age\"]=sharkattack[\"Age\"].apply(lambda x: re.findall(\"^\\d{,3}\",x)[0:2])"
   ]
  },
  {
   "cell_type": "code",
   "execution_count": null,
   "metadata": {
    "ExecuteTime": {
     "end_time": "2020-07-14T12:51:46.340718Z",
     "start_time": "2020-07-14T12:51:46.328748Z"
    }
   },
   "outputs": [],
   "source": [
    "sharkattack[\"Age\"]=sharkattack[\"Age\"].apply(lambda x: x[0])"
   ]
  },
  {
   "cell_type": "code",
   "execution_count": null,
   "metadata": {
    "ExecuteTime": {
     "end_time": "2020-07-14T12:51:49.232280Z",
     "start_time": "2020-07-14T12:51:49.223304Z"
    }
   },
   "outputs": [],
   "source": [
    "nullnumbers = sharkattack[\"Age\"]==\"\"\n",
    "sharkattack.loc[nullnumbers,\"Age\"]=0"
   ]
  },
  {
   "cell_type": "code",
   "execution_count": null,
   "metadata": {
    "ExecuteTime": {
     "end_time": "2020-07-14T12:51:51.523036Z",
     "start_time": "2020-07-14T12:51:51.509481Z"
    }
   },
   "outputs": [],
   "source": [
    "sharkattack[\"Age\"]=sharkattack[\"Age\"].astype(int)\n",
    "zeronums = sharkattack[\"Age\"]==0\n",
    "sharkattack.loc[zeronums,\"Age\"]=np.nan"
   ]
  },
  {
   "cell_type": "code",
   "execution_count": null,
   "metadata": {
    "ExecuteTime": {
     "end_time": "2020-07-14T12:51:59.950245Z",
     "start_time": "2020-07-14T12:51:59.915338Z"
    }
   },
   "outputs": [],
   "source": [
    "sharkattack[\"Age\"].mean()"
   ]
  },
  {
   "cell_type": "code",
   "execution_count": null,
   "metadata": {
    "ExecuteTime": {
     "end_time": "2020-07-14T12:52:02.194212Z",
     "start_time": "2020-07-14T12:52:02.060423Z"
    }
   },
   "outputs": [],
   "source": [
    "sharkattack[\"Age\"].value_counts()"
   ]
  },
  {
   "cell_type": "markdown",
   "metadata": {},
   "source": [
    "### - Sex"
   ]
  },
  {
   "cell_type": "code",
   "execution_count": null,
   "metadata": {
    "ExecuteTime": {
     "end_time": "2020-07-14T12:52:06.400804Z",
     "start_time": "2020-07-14T12:52:06.394815Z"
    }
   },
   "outputs": [],
   "source": [
    "sharkattack.rename(columns={\"Sex \":\"Sex\"},inplace=True)"
   ]
  },
  {
   "cell_type": "code",
   "execution_count": null,
   "metadata": {
    "ExecuteTime": {
     "end_time": "2020-07-14T12:52:09.955261Z",
     "start_time": "2020-07-14T12:52:09.947316Z"
    }
   },
   "outputs": [],
   "source": [
    "# Putting condition in order to clean sex column\n",
    "sexconditions = (sharkattack[\"Sex\"] != \"M\") & (sharkattack[\"Sex\"] != \"F\")"
   ]
  },
  {
   "cell_type": "code",
   "execution_count": null,
   "metadata": {
    "ExecuteTime": {
     "end_time": "2020-07-14T12:52:12.180126Z",
     "start_time": "2020-07-14T12:52:12.174109Z"
    }
   },
   "outputs": [],
   "source": [
    "sharkattack.loc[sexconditions,\"Sex\"]=np.nan"
   ]
  },
  {
   "cell_type": "code",
   "execution_count": null,
   "metadata": {
    "ExecuteTime": {
     "end_time": "2020-07-14T12:52:13.816135Z",
     "start_time": "2020-07-14T12:52:13.805165Z"
    }
   },
   "outputs": [],
   "source": [
    "sharkattack[\"Sex\"].value_counts()"
   ]
  },
  {
   "cell_type": "markdown",
   "metadata": {
    "ExecuteTime": {
     "end_time": "2020-06-16T19:52:07.514667Z",
     "start_time": "2020-06-16T19:52:07.495681Z"
    }
   },
   "source": [
    "### - Date"
   ]
  },
  {
   "cell_type": "code",
   "execution_count": null,
   "metadata": {
    "ExecuteTime": {
     "end_time": "2020-07-14T12:53:04.909784Z",
     "start_time": "2020-07-14T12:53:04.889837Z"
    }
   },
   "outputs": [],
   "source": [
    "#Partially cleaning column \"Year\".\n",
    "\n",
    "sharkattack['Year'] = sharkattack['Year'].replace([np.inf, -np.inf], np.nan)\n",
    "\n",
    "sharkattack['Year'] = sharkattack['Year'].fillna(0)\n",
    "\n",
    "sharkattack['Year'] = sharkattack['Year'].astype('int64')\n",
    "\n",
    "sharkattack['Year'].tolist()"
   ]
  },
  {
   "cell_type": "code",
   "execution_count": null,
   "metadata": {
    "ExecuteTime": {
     "end_time": "2020-07-14T13:09:36.616171Z",
     "start_time": "2020-07-14T13:09:36.611182Z"
    }
   },
   "outputs": [],
   "source": [
    "#Creating a list with the values from the column \"Date\".\n",
    "sharkattack_date = sharkattack['Date'].values.tolist()"
   ]
  },
  {
   "cell_type": "code",
   "execution_count": null,
   "metadata": {
    "ExecuteTime": {
     "end_time": "2020-07-14T13:09:38.422625Z",
     "start_time": "2020-07-14T13:09:38.411648Z"
    }
   },
   "outputs": [],
   "source": [
    "#Creating column \"Date Year\" from column \"Date\".\n",
    "\n",
    "date_year_list = []\n",
    "date_year = 0\n",
    "for i in sharkattack_date:\n",
    "    date_year = i[-4:]\n",
    "    if date_year.isdigit() == False:\n",
    "        date_year = '0'\n",
    "    date_year_list.append(date_year)\n",
    "    \n",
    "sharkattack['Date Year'] = date_year_list\n",
    "sharkattack['Date Year']\n"
   ]
  },
  {
   "cell_type": "code",
   "execution_count": null,
   "metadata": {
    "ExecuteTime": {
     "end_time": "2020-07-14T13:10:02.327917Z",
     "start_time": "2020-07-14T13:10:02.296984Z"
    }
   },
   "outputs": [],
   "source": [
    "#Creating column \"Date Month\" from column \"Date\".\n",
    "\n",
    "date_month_list = []\n",
    "date_month = 0\n",
    "for i in sharkattack_date:    \n",
    "    if (i[-8:-5].lower() == 'jan') or (i[-8:-5].lower() == '1'):\n",
    "        date_month = 1\n",
    "    elif (i[-8:-5].lower() == 'feb') or (i[-8:-5].lower() == '2'):\n",
    "        date_month = 2 \n",
    "    elif (i[-8:-5].lower() == 'mar') or (i[-8:-5].lower() == '3'):\n",
    "        date_month = 3\n",
    "    elif (i[-8:-5].lower() == 'apr') or (i[-8:-5].lower() == '4'):\n",
    "        date_month = 4\n",
    "    elif (i[-8:-5].lower() == 'may') or (i[-8:-5].lower() == '5'):\n",
    "        date_month = 5\n",
    "    elif (i[-8:-5].lower() == 'jun') or (i[-8:-5].lower() == '6'):\n",
    "        date_month = 6\n",
    "    elif (i[-8:-5].lower() == 'jul') or (i[-8:-5].lower() == '7'):\n",
    "        date_month = 7\n",
    "    elif (i[-8:-5].lower() == 'aug') or (i[-8:-5].lower() == '8'):\n",
    "        date_month = 8\n",
    "    elif (i[-8:-5].lower() == 'sep') or (i[-8:-5].lower() == '9'):\n",
    "        date_month = 9\n",
    "    elif (i[-8:-5].lower() == 'oct') or (i[-8:-5].lower() == '10'):\n",
    "        date_month = 10\n",
    "    elif (i[-8:-5].lower() == 'nov') or (i[-8:-5].lower() == '11'):\n",
    "        date_month = 11\n",
    "    elif (i[-8:-5].lower() == 'dec') or (i[-8:-5].lower() == '12'):\n",
    "        date_month = 12\n",
    "    else:\n",
    "        date_month = 0\n",
    "    date_month_list.append(date_month) \n",
    "    \n",
    "    \n",
    "sharkattack['Date Month'] = date_month_list"
   ]
  },
  {
   "cell_type": "code",
   "execution_count": null,
   "metadata": {
    "ExecuteTime": {
     "end_time": "2020-07-14T13:10:10.733014Z",
     "start_time": "2020-07-14T13:10:10.726030Z"
    }
   },
   "outputs": [],
   "source": [
    "#Creating column \"Date Day\" from column \"Date\".\n",
    "\n",
    "date_day_list = []\n",
    "date_day = 0\n",
    "for i in sharkattack_date:\n",
    "    date_day = i[-11:-9]\n",
    "    if date_day.isdigit() == False:\n",
    "        date_day = '0'\n",
    "    date_day_list.append(date_day)\n",
    "    \n",
    "sharkattack['Date Day'] = date_day_list"
   ]
  },
  {
   "cell_type": "code",
   "execution_count": null,
   "metadata": {
    "ExecuteTime": {
     "end_time": "2020-07-14T13:10:20.785515Z",
     "start_time": "2020-07-14T13:10:20.775545Z"
    }
   },
   "outputs": [],
   "source": [
    "#Comparing column \"Date Year\" and \"Year\" and replacing 0 values in the \"Date Year column\".\n",
    "\n",
    "sharkattack['Year'] = sharkattack['Year'].astype(int)\n",
    "\n",
    "sharkattack['Date Year'] = sharkattack['Date Year'].astype(int) \n",
    "\n",
    "date_year_list2 = sharkattack['Date Year'].tolist()\n",
    "\n",
    "year_list2 = sharkattack['Year'].tolist()\n",
    "\n",
    "for i in range(len(date_year_list2)):\n",
    "    if date_year_list2[i] == 0:\n",
    "        date_year_list2[i] = year_list2[i]\n",
    "        \n",
    "sharkattack['Date Year'] = date_year_list2"
   ]
  },
  {
   "cell_type": "code",
   "execution_count": null,
   "metadata": {
    "ExecuteTime": {
     "end_time": "2020-07-14T13:10:24.010129Z",
     "start_time": "2020-07-14T13:10:23.895312Z"
    }
   },
   "outputs": [],
   "source": [
    "mask2 = (sharkattack['Date Year'] != sharkattack['Year'])\n",
    "\n",
    "sharkattack.loc[mask2, :]"
   ]
  },
  {
   "cell_type": "markdown",
   "metadata": {},
   "source": [
    "### Fatal"
   ]
  },
  {
   "cell_type": "code",
   "execution_count": null,
   "metadata": {
    "ExecuteTime": {
     "end_time": "2020-07-14T13:10:42.665289Z",
     "start_time": "2020-07-14T13:10:42.660301Z"
    }
   },
   "outputs": [],
   "source": [
    "# Renaming fatal column, cleaning and turning into boolean"
   ]
  },
  {
   "cell_type": "code",
   "execution_count": null,
   "metadata": {
    "ExecuteTime": {
     "end_time": "2020-07-14T13:10:44.827394Z",
     "start_time": "2020-07-14T13:10:44.820425Z"
    }
   },
   "outputs": [],
   "source": [
    "sharkattack[\"Fatal (Y/N)\"].value_counts()"
   ]
  },
  {
   "cell_type": "code",
   "execution_count": null,
   "metadata": {
    "ExecuteTime": {
     "end_time": "2020-07-14T13:10:47.539658Z",
     "start_time": "2020-07-14T13:10:47.532646Z"
    }
   },
   "outputs": [],
   "source": [
    "sharkattack.rename(columns={\"Fatal (Y/N)\":\"Fatal\"},inplace=True)"
   ]
  },
  {
   "cell_type": "code",
   "execution_count": null,
   "metadata": {
    "ExecuteTime": {
     "end_time": "2020-07-14T13:10:49.335575Z",
     "start_time": "2020-07-14T13:10:49.329606Z"
    }
   },
   "outputs": [],
   "source": [
    "fatalconditions = (sharkattack[\"Fatal\"] != \"Y\") & (sharkattack[\"Fatal\"] != \"N\")"
   ]
  },
  {
   "cell_type": "code",
   "execution_count": null,
   "metadata": {
    "ExecuteTime": {
     "end_time": "2020-07-14T13:10:51.193105Z",
     "start_time": "2020-07-14T13:10:51.188119Z"
    }
   },
   "outputs": [],
   "source": [
    "sharkattack.loc[fatalconditions,\"Fatal\"]=np.nan"
   ]
  },
  {
   "cell_type": "code",
   "execution_count": null,
   "metadata": {
    "ExecuteTime": {
     "end_time": "2020-07-14T13:10:53.698441Z",
     "start_time": "2020-07-14T13:10:53.686478Z"
    }
   },
   "outputs": [],
   "source": [
    "sharkattack.loc[sharkattack[\"Fatal\"]==\"Y\",\"Fatal\"]=True\n",
    "sharkattack.loc[sharkattack[\"Fatal\"]==\"N\",\"Fatal\"]=False"
   ]
  },
  {
   "cell_type": "code",
   "execution_count": null,
   "metadata": {
    "ExecuteTime": {
     "end_time": "2020-07-14T13:10:55.869487Z",
     "start_time": "2020-07-14T13:10:55.861509Z"
    }
   },
   "outputs": [],
   "source": [
    "sharkattack[\"Fatal\"].value_counts()"
   ]
  },
  {
   "cell_type": "code",
   "execution_count": null,
   "metadata": {
    "ExecuteTime": {
     "end_time": "2020-07-14T13:10:57.882569Z",
     "start_time": "2020-07-14T13:10:57.876598Z"
    }
   },
   "outputs": [],
   "source": [
    "sharkattack[\"Fatal\"]=sharkattack[\"Fatal\"].astype(bool)"
   ]
  },
  {
   "cell_type": "code",
   "execution_count": null,
   "metadata": {
    "ExecuteTime": {
     "end_time": "2020-07-14T13:10:59.835165Z",
     "start_time": "2020-07-14T13:10:59.828220Z"
    }
   },
   "outputs": [],
   "source": [
    "sharkattack.dtypes"
   ]
  },
  {
   "cell_type": "markdown",
   "metadata": {},
   "source": [
    "## Reorganizing Columns:"
   ]
  },
  {
   "cell_type": "code",
   "execution_count": null,
   "metadata": {
    "ExecuteTime": {
     "end_time": "2020-07-14T13:11:03.730802Z",
     "start_time": "2020-07-14T13:11:03.708864Z"
    }
   },
   "outputs": [],
   "source": [
    "#Organizing columns order in a logical way\n",
    "\n",
    "sharkattack.keys()\n",
    "\n",
    "sharkattack = sharkattack[['Case Number.1', 'Date Year', 'Date Month', 'Date Day', 'Time', 'Day Period', 'Country', 'Area', 'Location', 'Name', 'Sex', 'Age', 'Activity', 'Type', 'Injury', 'Fatal', 'Species ', 'Investigator or Source', 'pdf', 'href', 'original order']]\n",
    "\n",
    "sharkattack.head(2)"
   ]
  },
  {
   "cell_type": "code",
   "execution_count": null,
   "metadata": {
    "ExecuteTime": {
     "end_time": "2020-07-14T13:11:07.232907Z",
     "start_time": "2020-07-14T13:11:07.206777Z"
    }
   },
   "outputs": [],
   "source": [
    "sharkattack.rename(columns={'Case Number.1': 'Case Number','Date Day': 'Day', 'Date Month': 'Month', 'Date Year': 'Year', }, inplace = True)\n",
    "\n",
    "sharkattack.head(100)"
   ]
  },
  {
   "cell_type": "markdown",
   "metadata": {
    "ExecuteTime": {
     "end_time": "2020-06-16T20:09:21.717936Z",
     "start_time": "2020-06-16T20:09:21.713001Z"
    }
   },
   "source": [
    "## Exporting file:"
   ]
  },
  {
   "cell_type": "code",
   "execution_count": null,
   "metadata": {
    "ExecuteTime": {
     "end_time": "2020-07-14T13:11:26.002167Z",
     "start_time": "2020-07-14T13:11:25.705146Z"
    }
   },
   "outputs": [],
   "source": [
    "sharkattack.to_csv('./project2-shark-attacks.csv', index=False)"
   ]
  }
 ],
 "metadata": {
  "hide_input": false,
  "kernelspec": {
   "display_name": "Python 3",
   "language": "python",
   "name": "python3"
  },
  "language_info": {
   "codemirror_mode": {
    "name": "ipython",
    "version": 3
   },
   "file_extension": ".py",
   "mimetype": "text/x-python",
   "name": "python",
   "nbconvert_exporter": "python",
   "pygments_lexer": "ipython3",
   "version": "3.8.2"
  },
  "toc": {
   "base_numbering": 1,
   "nav_menu": {},
   "number_sections": true,
   "sideBar": true,
   "skip_h1_title": false,
   "title_cell": "Table of Contents",
   "title_sidebar": "Contents",
   "toc_cell": false,
   "toc_position": {},
   "toc_section_display": true,
   "toc_window_display": false
  },
  "varInspector": {
   "cols": {
    "lenName": 16,
    "lenType": 16,
    "lenVar": 40
   },
   "kernels_config": {
    "python": {
     "delete_cmd_postfix": "",
     "delete_cmd_prefix": "del ",
     "library": "var_list.py",
     "varRefreshCmd": "print(var_dic_list())"
    },
    "r": {
     "delete_cmd_postfix": ") ",
     "delete_cmd_prefix": "rm(",
     "library": "var_list.r",
     "varRefreshCmd": "cat(var_dic_list()) "
    }
   },
   "types_to_exclude": [
    "module",
    "function",
    "builtin_function_or_method",
    "instance",
    "_Feature"
   ],
   "window_display": false
  }
 },
 "nbformat": 4,
 "nbformat_minor": 4
}
