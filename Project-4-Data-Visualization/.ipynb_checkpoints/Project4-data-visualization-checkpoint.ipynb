{
 "cells": [
  {
   "cell_type": "markdown",
   "metadata": {},
   "source": [
    "# Ironhack - Data Analytics Bootcamp"
   ]
  },
  {
   "cell_type": "markdown",
   "metadata": {},
   "source": [
    "## Project 4 - Visual Analytics\n",
    "\n",
    "Business Analysis - Gaining Insights."
   ]
  },
  {
   "cell_type": "markdown",
   "metadata": {},
   "source": [
    "### Main Objectives\n",
    "\n",
    "The data visualization project is an important step in the workflow of a data analyst. It helps people take decision in a data driven manner and gain insights.\n",
    "\n",
    "<img src=\"./objectives.jpg\" width=\"600px\"/>\n",
    "\n",
    "### Specific Objectives - Technical\n",
    "\n",
    "1. Answer questions using:\n",
    "    - python graphs or\n",
    "    - tableau graphs (or both);\n",
    "2. A Tableau dashboard or a Tableau Story (or both)\n",
    "\n",
    "### Specific Objectives - Business\n",
    "\n",
    "3. Answer a business question (or create more insightful ones);\n",
    "4. Business presentation exploring your insights.\n",
    "\n",
    "### Hints\n",
    "\n",
    "- Dataset: You should use the dataset you have used for your data gathering project. If you can not, we will select some for you.\n",
    "- Storytelling: Do not forget to embed your results in a coherent story. You should open your presentation describing your business pain and close it with your solution.\n",
    "- This is a business presentation. Do not forget to bring your data results back to the business reality. Thinks of us as the stakeholder of your project.\n",
    "\n",
    "### Deliverables\n",
    "\n",
    "- Presentation of your project - 7 minutes\n",
    "- Link to tableau project\n",
    "- Summary of your main insights "
   ]
  },
  {
   "cell_type": "markdown",
   "metadata": {},
   "source": [
    "## The Project:\n",
    "\n",
    "### Methodology:\n",
    "\n",
    "#### Chosing the  sources for this project:\n",
    "\n",
    "In this project, it was suggested by the teacher to use the dataframe created in the previous project; therefore, I used the [dataframe](../Project-3-Data-Gathering) I had created earlier, containing information about the companies that are part of the Standard & Poor's 500, a stock market index that measures the performance of the shares of 500 major companies listed on stock exchanges in the United States.\n",
    "\n",
    "The dataframe contained the following information:\n",
    "\n",
    "- Symbol (or ticker);\n",
    "- Security (or name);\n",
    "- SEC filings;\n",
    "- GICS Sector;\n",
    "- GICS Sub Industry;\n",
    "- Headquarters Location;\n",
    "- Date first added;\n",
    "- CIK;\n",
    "- Founded;\n",
    "- 2019 third quarter quotes;\n",
    "- 2019 fourth quarter quotes;\n",
    "- 2020 first quarter quotes; and\n",
    "- 2020 second quarter quotes;\n",
    "\n",
    "#### Question chosen to be answered:\n",
    "\n",
    "Considering that the world is facing the Covid-19 pandemic, I decided to use Tableau to visualize the performance of health care companies at the end of the last four quarters (from 07-01-2019 to 06-30-2020) and see if they had followed the same path.\n",
    "\n",
    "#### Steps taken:\n",
    "\n",
    "1. I imported the sp500.csv file;\n",
    "2. I changed the locations field's data types to be recognized by table as locations;\n",
    "3. I changed the data types of the columns with the stocks rates to be recognized by table as numbers;\n",
    "4. Using a filter for the \"Health Care\" sector, I created a sheet containing the USA map with companies analyzed and located there. As there was no more than one company per state, I decided to separate the states by color with legends and display the symbol of each company in the state where they are located. The company name was chosen to be shown when the mouse passes over the state;\n",
    "5. I created the same spreadsheet containing the map of the other countries where some of the companies analyzed are located;\n",
    "6. Using a filter for the \"Health Care\" and \"Measure Name\" columns, I created a sheet showing the results of all the companies analyzed at the end of each period, using a bar chart with a different color for each period, with a legend for the period at the bottom of the columns and a legend with the company name at the top of the columns; \n",
    "7. I created three more spreadsheets, like the one described above, using filters for the following sub industries: \"Pharmaceutical Companies\", \"Health Care Supply Companies\" and \"Health Care Facilities Companies\";\n",
    "8. I placed each of the sheets created in a different dashboard;\n",
    "9. Then, all the dashboards were transfered to a story panel to better present the results;\n",
    "10. Looking at the charts, I tried to find a pattern among the companies of the \"Health Care\" sector and the sub industries analyzed, but it seems that even the companies of the same sub industries performed differently.\n",
    "\n",
    "\n",
    "#### Conclusion:\n",
    "\n",
    "It was not clear whether there was a common trend for all the health care companies analyzed. Some of them faced problems during the beginning of the pandemic, while others experienced a rise in their share prices.\n",
    "\n",
    "#### Problems faced:\n",
    "\n",
    "- The dataframe did not have many relevant information for a better analysis;\n",
    "- Tableau is not as intuitive as it looks;\n",
    "\n",
    "#### Technologies used:\n",
    "\n",
    "- Python\n",
    "- Pandas\n",
    "- Tableau\n",
    "___________________________________________________________________________________________________________________________\n",
    "\n",
    "## Tableau link for the project:\n",
    "\n",
    "https://public.tableau.com/profile/marcus.brand.o#!/vizhome/SP500-HealthCare-2019-2020/Story1?publish=yes\n",
    "___________________________________________________________________________________________________________________________\n",
    "\n",
    "## Colaborator:\n",
    "\n",
    "- Marcus Brandão\n",
    "___________________________________________________________________________________________________________________________"
   ]
  }
 ],
 "metadata": {
  "hide_input": false,
  "kernelspec": {
   "display_name": "Python 3",
   "language": "python",
   "name": "python3"
  },
  "language_info": {
   "codemirror_mode": {
    "name": "ipython",
    "version": 3
   },
   "file_extension": ".py",
   "mimetype": "text/x-python",
   "name": "python",
   "nbconvert_exporter": "python",
   "pygments_lexer": "ipython3",
   "version": "3.8.2"
  },
  "varInspector": {
   "cols": {
    "lenName": 16,
    "lenType": 16,
    "lenVar": 40
   },
   "kernels_config": {
    "python": {
     "delete_cmd_postfix": "",
     "delete_cmd_prefix": "del ",
     "library": "var_list.py",
     "varRefreshCmd": "print(var_dic_list())"
    },
    "r": {
     "delete_cmd_postfix": ") ",
     "delete_cmd_prefix": "rm(",
     "library": "var_list.r",
     "varRefreshCmd": "cat(var_dic_list()) "
    }
   },
   "types_to_exclude": [
    "module",
    "function",
    "builtin_function_or_method",
    "instance",
    "_Feature"
   ],
   "window_display": false
  }
 },
 "nbformat": 4,
 "nbformat_minor": 4
}
